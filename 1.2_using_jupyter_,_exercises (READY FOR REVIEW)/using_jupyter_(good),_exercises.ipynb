{
 "cells": [
  {
   "attachments": {},
   "cell_type": "markdown",
   "id": "123456",
   "metadata": {},
   "source": [
    "<div style=\"text-align:left;font-size:2em\"><span style=\"font-weight:bolder;font-size:1.25em\">SP2273 | Learning Portfolio</span><br><br><span style=\"font-weight:bold;color:darkred\">Using Jupyter (Good), Exercises</span></div>"
   ]
  },
  {
   "cell_type": "markdown",
   "id": "74e5e8f6-9084-474a-8d46-a489b4b48fac",
   "metadata": {},
   "source": [
    "# Learning to interrupt"
   ]
  },
  {
   "cell_type": "code",
   "execution_count": null,
   "id": "33b09d21-7af9-4e75-a717-5401e99e25c4",
   "metadata": {},
   "outputs": [],
   "source": [
    "while True:\n",
    "    print('*', end='')"
   ]
  },
  {
   "cell_type": "markdown",
   "id": "5f958fac-eefb-47ae-8f92-986788574b3e",
   "metadata": {},
   "source": [
    "To interrupt the kernal, press the \"Kernal\" button under menu, and press \"Interrupt Kernal\". Or the shortcut can be used: to press \"I\" twice."
   ]
  },
  {
   "cell_type": "markdown",
   "id": "07a1dbe0-a787-4d85-870e-f348df8a29f8",
   "metadata": {},
   "source": [
    "# Resetting & Restarting the Kernel"
   ]
  },
  {
   "cell_type": "code",
   "execution_count": null,
   "id": "5468def2-b149-41c2-bb72-2a3cd525ecbb",
   "metadata": {},
   "outputs": [],
   "source": [
    "print = 'PRINT'"
   ]
  },
  {
   "cell_type": "code",
   "execution_count": 4,
   "id": "7d0999cf-bb26-45e7-8910-fbe1c92aa8bf",
   "metadata": {},
   "outputs": [
    {
     "name": "stdout",
     "output_type": "stream",
     "text": [
      "Hello World\n"
     ]
    }
   ],
   "source": [
    "print('Hello World')"
   ]
  },
  {
   "cell_type": "markdown",
   "id": "5586f5d5-0d5f-4e9c-b0d6-a1a71812fe89",
   "metadata": {},
   "source": [
    "# Timing Stuff"
   ]
  },
  {
   "cell_type": "code",
   "execution_count": 2,
   "id": "4b1297c4-67c5-4ae8-8072-4532ca6ff7be",
   "metadata": {},
   "outputs": [
    {
     "name": "stdout",
     "output_type": "stream",
     "text": [
      "[0, 1, 4, 9, 16, 25, 36, 49, 64, 81]\n",
      "[0, 1, 4, 9, 16, 25, 36, 49, 64, 81]\n"
     ]
    }
   ],
   "source": [
    "squares = [i**2 for i in range(10)]\n",
    "print(squares)\n",
    "\n",
    "squares = list()\n",
    "for i in range(10):\n",
    "    squares.append(i**2)\n",
    "print(squares)"
   ]
  },
  {
   "cell_type": "code",
   "execution_count": 4,
   "id": "b64f02dc-b38d-4338-9755-f1ec7806e461",
   "metadata": {},
   "outputs": [
    {
     "name": "stdout",
     "output_type": "stream",
     "text": [
      "293 ns ± 1.29 ns per loop (mean ± std. dev. of 7 runs, 1,000,000 loops each)\n"
     ]
    }
   ],
   "source": [
    "%%timeit \n",
    "squares = [i**2 for i in range(10)]"
   ]
  },
  {
   "cell_type": "code",
   "execution_count": 5,
   "id": "1a551b92-0c65-42f4-bf4c-b938bd118b79",
   "metadata": {},
   "outputs": [
    {
     "name": "stdout",
     "output_type": "stream",
     "text": [
      "323 ns ± 1.48 ns per loop (mean ± std. dev. of 7 runs, 1,000,000 loops each)\n"
     ]
    }
   ],
   "source": [
    "%%timeit \n",
    "squares = list()\n",
    "for i in range(10):\n",
    "    squares.append(i**2)"
   ]
  },
  {
   "cell_type": "markdown",
   "id": "6f5ca401-260a-4844-8571-8b594e7f8559",
   "metadata": {},
   "source": [
    "The code was run in a loop of 1,000,000 times, 7 times (i.e., 7 runs).\n",
    "**Each run includes 1,000,000 loops. In one loop, the code is run once. So in one run, the code is run 1,000,000 times.**\n",
    "\n",
    "293ns and 323ns are the average times taken to run the code across the 7 runs. \n",
    "\n",
    "1.29ns and 1.48ns are the standard deviations in the time taken taken to run the code across the 7 runs."
   ]
  },
  {
   "attachments": {},
   "cell_type": "markdown",
   "id": "401d0ed2",
   "metadata": {},
   "source": [
    "## Footnotes"
   ]
  }
 ],
 "metadata": {
  "kernelspec": {
   "display_name": "Python 3 (ipykernel)",
   "language": "python",
   "name": "python3"
  },
  "language_info": {
   "codemirror_mode": {
    "name": "ipython",
    "version": 3
   },
   "file_extension": ".py",
   "mimetype": "text/x-python",
   "name": "python",
   "nbconvert_exporter": "python",
   "pygments_lexer": "ipython3",
   "version": "3.13.1"
  },
  "toc": {
   "base_numbering": 1,
   "nav_menu": {},
   "number_sections": true,
   "sideBar": true,
   "skip_h1_title": false,
   "title_cell": "Table of Contents",
   "title_sidebar": "Contents",
   "toc_cell": false,
   "toc_position": {},
   "toc_section_display": true,
   "toc_window_display": false
  },
  "vscode": {
   "interpreter": {
    "hash": "31f2aee4e71d21fbe5cf8b01ff0e069b9275f58929596ceb00d14d90e3e16cd6"
   }
  }
 },
 "nbformat": 4,
 "nbformat_minor": 5
}
