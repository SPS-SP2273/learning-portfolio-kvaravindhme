{
 "cells": [
  {
   "attachments": {},
   "cell_type": "markdown",
   "id": "123456",
   "metadata": {},
   "source": [
    "<div style=\"text-align:left;font-size:2em\"><span style=\"font-weight:bolder;font-size:1.25em\">SP2273 | Learning Portfolio</span><br><br><span style=\"font-weight:bold;color:darkred\">Using Jupyter (Need), Exercises</span></div>"
   ]
  },
  {
   "cell_type": "markdown",
   "id": "f764f4dd-4c7a-41b7-9587-4862d2fa0e4f",
   "metadata": {},
   "source": [
    "# <span style=\"color: gray;\">1</span> Quadratic Equations\n",
    "---\n",
    "\n",
    "## Introduction\n",
    "\n",
    "![Quadratic Equation Graph](https://upload.wikimedia.org/wikipedia/commons/f/f8/Polynomialdeg2.svg) <br>\n",
    "(_Image from the [<u>Wikipedia page on Quadratic equations<u>](https://en.wikipedia.org/wiki/Quadratic_equation)_)\n",
    "\n",
    "The general form of a quadratic equation is: <br>\n",
    "<p style=\"text-align: center;\">$ax^2 + bx + c = 0$</p>\n",
    "\n",
    "## Solutions\n",
    "Provided $a \\neq 0$, we can use an elementary algebraic method called [<u>completing the square<u>](https://en.wikipedia.org/wiki/Completing_the_square) to show that a quadratic equation has the following solution: <br>\n",
    "<p style=\"text-align: center;\">$x = \\frac{-b\\pm\\sqrt{b^2-4ac}}{2a}$</p>\n",
    "\n",
    "## Discriminant\n",
    "The quantity $\\Delta = b^2 - 4ac$ is called the **discriminant** of the equation and decides the nature of its solutions. The table below shows the various possibilities.\n",
    "\n",
    "---\n",
    "| Discriminant | Roots |\n",
    "|:---:|:---|\n",
    "|$\\Delta = b^2 - 4ac = 0$|A single solution of $-b/(2a)$|\n",
    "|$\\Delta = b^2 - 4ac > 0$|Two distinct solutions|\n",
    "|$\\Delta = b^2 - 4ac < 0$|No real solutions; both are complex|"
   ]
  },
  {
   "cell_type": "markdown",
   "id": "3d8d955b-a9e7-4b50-b648-a203bbcd564d",
   "metadata": {},
   "source": [
    "1. What is a Git repository?\n",
    "A Git repository is a location where code can be stored.\n",
    "\n",
    "2. Git keeps track of changes in the files in our repository.\n",
    "    \n",
    "3. What is a commit?\n",
    "To commit is to save changes made to a file, either locally or on the cloud.\n",
    "\n",
    "4. What is a push?\n",
    "To push is to transfer changes made locally to the cloud. Changes pushed onto the cloud can then be pulled into a different device. \n",
    "\n",
    "5. What is a pull?\n",
    "To pull is to transfer changes made on the cloud to a local device. \n",
    "\n",
    "6. What is the difference between GitHub and GitHub Desktop?\n",
    "GitHub is a cloud platform, accessible via the Internet, whereas GitHub Desktop is a local application.\n"
   ]
  },
  {
   "cell_type": "markdown",
   "id": "b7051ff4-7daf-4831-8246-e6c8ba21bbc7",
   "metadata": {},
   "source": [
    "$$\n",
    "\\mu = \\frac{1}{n} \\sum_{i=1}^{n} x_i\n",
    "$$\n",
    "\n",
    "$$\n",
    "\\sigma = \\sqrt{\\frac{1}{n}\\sum_{i=1}^n (x_i - \\mu)^2}\n",
    "$$\n",
    "\n",
    "$$\n",
    "r = \\frac{\\sum_{i=1}^n (x_i-\\mu_X)(y_i-\\mu_Y)}{\\sqrt{\\sum_{i=1}^n (x_i-\\mu_X)^2 \\sum_{i=1}^n (y_i-\\mu_Y)^2}}\n",
    "$$"
   ]
  },
  {
   "cell_type": "code",
   "execution_count": null,
   "id": "657355e3-581e-44c6-b568-068efc94e400",
   "metadata": {},
   "outputs": [],
   "source": []
  }
 ],
 "metadata": {
  "kernelspec": {
   "display_name": "Python 3 (ipykernel)",
   "language": "python",
   "name": "python3"
  },
  "language_info": {
   "codemirror_mode": {
    "name": "ipython",
    "version": 3
   },
   "file_extension": ".py",
   "mimetype": "text/x-python",
   "name": "python",
   "nbconvert_exporter": "python",
   "pygments_lexer": "ipython3",
   "version": "3.13.1"
  },
  "toc": {
   "base_numbering": 1,
   "nav_menu": {},
   "number_sections": true,
   "sideBar": true,
   "skip_h1_title": false,
   "title_cell": "Table of Contents",
   "title_sidebar": "Contents",
   "toc_cell": false,
   "toc_position": {},
   "toc_section_display": true,
   "toc_window_display": false
  },
  "vscode": {
   "interpreter": {
    "hash": "31f2aee4e71d21fbe5cf8b01ff0e069b9275f58929596ceb00d14d90e3e16cd6"
   }
  }
 },
 "nbformat": 4,
 "nbformat_minor": 5
}
