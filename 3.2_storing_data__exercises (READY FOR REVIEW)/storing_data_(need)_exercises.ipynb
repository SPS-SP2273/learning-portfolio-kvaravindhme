{
 "cells": [
  {
   "attachments": {},
   "cell_type": "markdown",
   "id": "123456",
   "metadata": {},
   "source": [
    "<div style=\"text-align:left;font-size:2em\"><span style=\"font-weight:bolder;font-size:1.25em\">SP2273 | Learning Portfolio</span><br><br><span style=\"font-weight:bold;color:darkred\">Storing Data (Need) Exercises</span></div>"
   ]
  },
  {
   "cell_type": "markdown",
   "id": "51d579d9-301b-4ae3-af25-b42306bcd3c0",
   "metadata": {},
   "source": [
    "# Total Recall"
   ]
  },
  {
   "cell_type": "markdown",
   "id": "5713c2b1-2dc1-4403-a62f-efe10e94c096",
   "metadata": {},
   "source": [
    "**What I remember about lists and arrays:**\n",
    "1. Two similaries between lists and arrays: (1) both can store multiple elements in the same variable, (2) both are mutable\n",
    "\n",
    "\n",
    "2. **Two differences between lists and arrays:** (1) elements can be appended to lists, but not to arrays (sizes of arrays is fixed, whereas those of lists is not) (2) a list can hold different variable types, but an array can only hold variables of the same type\n",
    "\n",
    "4.  **What is a dictionary?** A dictionary stores key-value pairs (i.e., 2 variables that are linked to each other and only each other). One can access the value by inputting the key. "
   ]
  },
  {
   "cell_type": "markdown",
   "id": "407f91d5-dfd5-49b4-b020-1bfb5e697cb3",
   "metadata": {},
   "source": [
    "# Indexing"
   ]
  },
  {
   "cell_type": "code",
   "execution_count": 4,
   "id": "765afdc4-4f55-4e62-83fe-260ce7e8f746",
   "metadata": {},
   "outputs": [
    {
     "name": "stdout",
     "output_type": "stream",
     "text": [
      "a1\n",
      "c3\n",
      "e5\n",
      "g7\n",
      "i9\n"
     ]
    }
   ],
   "source": [
    "py_list = [\"a1\", \"b2\", \"c3\", \"d4\", \"e5\", \"f6\", \"g7\", \"h8\", \"i9\", \"j10\"]\n",
    "\n",
    "for i in py_list: \n",
    "    if (py_list.index(i)%2) == 0: \n",
    "        print(i)"
   ]
  },
  {
   "cell_type": "markdown",
   "id": "a0df7f6a-15d8-4217-ac50-6aadd795ea3d",
   "metadata": {},
   "source": [
    "# Index again"
   ]
  },
  {
   "cell_type": "code",
   "execution_count": 12,
   "id": "5c9f7db3-96de-43ad-ba5c-9eddb1fd2a16",
   "metadata": {},
   "outputs": [
    {
     "name": "stdout",
     "output_type": "stream",
     "text": [
      "Boron\n",
      "Boron\n"
     ]
    }
   ],
   "source": [
    "elements = ['Hydrogen',\n",
    "            'Helium', 'Lithium',\n",
    "            'Beryllium', 'Boron', 'Carbon',\n",
    "            'Nitrogen', 'Oxygen',\n",
    "            'Fluorine',\n",
    "            'Neon']\n",
    "\n",
    "print(elements[4])\n",
    "print(elements[-(len(elements)-4)])"
   ]
  },
  {
   "cell_type": "markdown",
   "id": "a59edce6-3fbb-42be-a484-a117a3a7292d",
   "metadata": {},
   "source": [
    "# How many ones"
   ]
  },
  {
   "cell_type": "code",
   "execution_count": 35,
   "id": "62110318-b11c-4cdf-8a61-30a2b1486a46",
   "metadata": {},
   "outputs": [
    {
     "name": "stdout",
     "output_type": "stream",
     "text": [
      "9\n"
     ]
    }
   ],
   "source": [
    "import numpy as np\n",
    "numbers=[45, 60, 1, 30, 96, 1, 96, 57, 16, 1,\n",
    "        99, 62, 86, 43, 42, 60, 59, 1, 1, 35,\n",
    "        83, 47, 34, 28, 68, 23, 22, 92, 1, 79,\n",
    "        1, 29, 94, 72, 46, 47, 1, 74, 32, 20,\n",
    "        8, 37, 35, 1, 89, 29, 86, 19, 43, 61]                  \n",
    "\n",
    "numpy_numbers = np.array(numbers)\n",
    "isOne = numpy_numbers == 1\n",
    "\n",
    "print(sum(isOne))"
   ]
  },
  {
   "cell_type": "markdown",
   "id": "daa7857c-7fd2-432b-847e-53aa8c481e10",
   "metadata": {},
   "source": [
    "# A Matter of Statistics"
   ]
  },
  {
   "cell_type": "code",
   "execution_count": 70,
   "id": "42c994f8-7d1e-4174-a2e6-a779a27d4cfa",
   "metadata": {},
   "outputs": [
    {
     "name": "stdout",
     "output_type": "stream",
     "text": [
      "[38.5, 302.5] [32.41990129534635, 326.0893282522444]\n",
      "0.9871796626270701 \n",
      " [[1.         0.98717966]\n",
      " [0.98717966 1.        ]]\n"
     ]
    }
   ],
   "source": [
    "import numpy as np\n",
    "\n",
    "x_1 = [1, 4, 9, 16, 25, 36, 49, 64, 81, 100]\n",
    "x_2 = [1, 8, 27, 64, 125, 216, 343, 512, 729, 1000]\n",
    "\n",
    "#converting to numpy arrays\n",
    "x_1 = np.array(x_1)\n",
    "x_2 = np.array(x_2)\n",
    "\n",
    "#mean and std\n",
    "mean = [float(np.mean(x_1)), float(np.mean(x_2))]\n",
    "std = [float(np.std(x_1)), float(np.std(x_2))]\n",
    "print(mean, std)\n",
    "\n",
    "#pearson's coefficient\n",
    "r1 = (sum((x_1-mean[0])*(x_2-mean[1])))/(np.sqrt(sum((x_1-mean[0])**2)*sum((x_2-mean[1])**2)))\n",
    "\n",
    "#np.corrcoef()\n",
    "r2 = np.corrcoef(x_1, x_2)\n",
    "print(r1, '\\n', r2)"
   ]
  },
  {
   "cell_type": "markdown",
   "id": "829a5c3d-12bb-4b31-a875-ae14185099b4",
   "metadata": {},
   "source": [
    "np.corrcoef() returns a 2x2 array, and 2 elements of the matrix is the value calcuated manually (but to a smaller number of decimal places). \n",
    "\n",
    "From searching what the rest of the elements refer to, it was gathered that: \n",
    "1. [0, 0] refers to the correlation of x_1 to x_1\n",
    "2. [0, 1] refers to the correlation of x_1 to x_2\n",
    "3. [1, 0] refers to the correlation of x_2 to x_2\n",
    "4. [1, 1] refers to the correlation of x_2 to x_1"
   ]
  }
 ],
 "metadata": {
  "kernelspec": {
   "display_name": "Python 3 (ipykernel)",
   "language": "python",
   "name": "python3"
  },
  "language_info": {
   "codemirror_mode": {
    "name": "ipython",
    "version": 3
   },
   "file_extension": ".py",
   "mimetype": "text/x-python",
   "name": "python",
   "nbconvert_exporter": "python",
   "pygments_lexer": "ipython3",
   "version": "3.13.1"
  },
  "toc": {
   "base_numbering": 1,
   "nav_menu": {},
   "number_sections": true,
   "sideBar": true,
   "skip_h1_title": false,
   "title_cell": "Table of Contents",
   "title_sidebar": "Contents",
   "toc_cell": false,
   "toc_position": {},
   "toc_section_display": true,
   "toc_window_display": false
  },
  "vscode": {
   "interpreter": {
    "hash": "31f2aee4e71d21fbe5cf8b01ff0e069b9275f58929596ceb00d14d90e3e16cd6"
   }
  }
 },
 "nbformat": 4,
 "nbformat_minor": 5
}
