{
 "cells": [
  {
   "attachments": {},
   "cell_type": "markdown",
   "id": "123456",
   "metadata": {},
   "source": [
    "<div style=\"text-align:left;font-size:2em\"><span style=\"font-weight:bolder;font-size:1.25em\">SP2273 | Learning Portfolio</span><br><br><span style=\"font-weight:bold;color:darkred\">Storing Data (Good) Exercises</span></div>"
   ]
  },
  {
   "cell_type": "markdown",
   "id": "0fd43b02-1932-4b11-abf9-4aefe2e0ecbc",
   "metadata": {},
   "source": [
    "# Total Recall"
   ]
  },
  {
   "cell_type": "markdown",
   "id": "190f75c7-036c-41e2-8716-35fb9bcaedae",
   "metadata": {},
   "source": [
    "1. **Subsetting:** to extract a part of the list/ array\n",
    "   \n",
    "2. **Indexing:** to select individual elements of the list/ array\n",
    "\n",
    "3. **Slicing:** to extract a part of the list/ array (functionally, it's subset of subsetting) by inputting (1) the start and end positions of the elements to be extracted, (2) the order in which the elements should be extracted (forward/ reverse)\n",
    "\n",
    "4. **Masking:** selecting elements from a list/ array using a condition that is either true or false; elements that do not meet the condition will be returned as false, and therefore masked"
   ]
  },
  {
   "cell_type": "markdown",
   "id": "251dce9d-8a98-481c-a386-949dab594ff9",
   "metadata": {},
   "source": [
    "# Show me the 'odd' letters"
   ]
  },
  {
   "cell_type": "code",
   "execution_count": 16,
   "id": "55508fe7-fdd6-4264-a0a5-80e28c192ef3",
   "metadata": {},
   "outputs": [
    {
     "name": "stdout",
     "output_type": "stream",
     "text": [
      "['A' 'C' 'E' 'G' 'I']\n"
     ]
    }
   ],
   "source": [
    "import numpy as np\n",
    "np_array_2d = np.array([[1, \"A\"], [3, \"C\"], [2, \"B\"], [4, \"D\"],\n",
    "                        [5, \"E\"], [7, \"G\"], [6, \"F\"], [8, \"H\"],\n",
    "                        [10, \"J\"], [9, \"I\"]])\n",
    "\n",
    "numbers = np_array_2d[:,0].astype(int)\n",
    "isOdd = numbers % 2 == 1\n",
    "\n",
    "print(np_array_2d[:, 1][isOdd])"
   ]
  },
  {
   "cell_type": "markdown",
   "id": "28724597-1f37-46c0-809a-eaaf3c662ad1",
   "metadata": {},
   "source": [
    "# Numpy masking"
   ]
  },
  {
   "cell_type": "code",
   "execution_count": 29,
   "id": "2c81ebfd-9550-48ab-a863-8b7dbfdcc064",
   "metadata": {},
   "outputs": [
    {
     "name": "stdout",
     "output_type": "stream",
     "text": [
      "[[ 1  0  1 -1 -1]\n",
      " [ 1 -1  1 -1 -1]\n",
      " [ 1 -1 -1  1 -1]\n",
      " [-1  1  1 -1 -1]\n",
      " [ 1 -1  1 -1  1]]\n"
     ]
    }
   ],
   "source": [
    "array = np.array([[66, 50, 57, -1, -1],\n",
    " [92, -1, 88, -1, -1],\n",
    " [75, -1, -1, 76, -1],\n",
    " [-1, 51, 87, -1, -1],\n",
    " [71, -1, 67, -1, 69]])\n",
    "\n",
    "#below 50\n",
    "isTrue = array < 50\n",
    "array[isTrue] = -1\n",
    "\n",
    "#above 50\n",
    "isTrue = array > 50\n",
    "array[isTrue] = 1\n",
    "\n",
    "#is 50\n",
    "isTrue = array == 50\n",
    "array[isTrue] = 0\n",
    "\n",
    "print(array)"
   ]
  }
 ],
 "metadata": {
  "kernelspec": {
   "display_name": "Python 3 (ipykernel)",
   "language": "python",
   "name": "python3"
  },
  "language_info": {
   "codemirror_mode": {
    "name": "ipython",
    "version": 3
   },
   "file_extension": ".py",
   "mimetype": "text/x-python",
   "name": "python",
   "nbconvert_exporter": "python",
   "pygments_lexer": "ipython3",
   "version": "3.13.1"
  },
  "toc": {
   "base_numbering": 1,
   "nav_menu": {},
   "number_sections": true,
   "sideBar": true,
   "skip_h1_title": false,
   "title_cell": "Table of Contents",
   "title_sidebar": "Contents",
   "toc_cell": false,
   "toc_position": {},
   "toc_section_display": true,
   "toc_window_display": false
  },
  "vscode": {
   "interpreter": {
    "hash": "31f2aee4e71d21fbe5cf8b01ff0e069b9275f58929596ceb00d14d90e3e16cd6"
   }
  }
 },
 "nbformat": 4,
 "nbformat_minor": 5
}
