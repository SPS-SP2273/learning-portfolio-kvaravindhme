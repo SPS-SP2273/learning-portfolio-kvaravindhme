{
 "cells": [
  {
   "attachments": {},
   "cell_type": "markdown",
   "id": "123456",
   "metadata": {},
   "source": [
    "<div style=\"text-align:left;font-size:2em\"><span style=\"font-weight:bolder;font-size:1.25em\">SP2273 | Learning Portfolio</span><br><br><span style=\"font-weight:bold;color:darkred\">Using Jupyter (Good)</span></div>"
   ]
  },
  {
   "attachments": {},
   "cell_type": "markdown",
   "id": "8a02cd02",
   "metadata": {},
   "source": [
    "# What to expect in this chapter"
   ]
  },
  {
   "attachments": {},
   "cell_type": "markdown",
   "id": "17530661",
   "metadata": {},
   "source": [
    "# 1 Some tips and tricks"
   ]
  },
  {
   "attachments": {},
   "cell_type": "markdown",
   "id": "17ae4924",
   "metadata": {},
   "source": [
    "## 1.1 Keyboard Shortcuts"
   ]
  },
  {
   "attachments": {},
   "cell_type": "markdown",
   "id": "148ab012",
   "metadata": {},
   "source": [
    "### Things to note"
   ]
  },
  {
   "cell_type": "code",
   "execution_count": null,
   "id": "4ae772b3",
   "metadata": {},
   "outputs": [],
   "source": [
    "\n",
    "# Your code here\n"
   ]
  },
  {
   "attachments": {},
   "cell_type": "markdown",
   "id": "366cbbe3",
   "metadata": {},
   "source": [
    "## 1.2 Shell commands"
   ]
  },
  {
   "cell_type": "code",
   "execution_count": 1,
   "id": "63a5ae64-49b8-47a0-b847-c1c1803bd3dd",
   "metadata": {},
   "outputs": [
    {
     "name": "stdout",
     "output_type": "stream",
     "text": [
      "/Users/kvaravindh/Documents/GitHub/learning-portfolio-kvaravindhme/1.1_using_jupyter\n"
     ]
    }
   ],
   "source": [
    "!pwd"
   ]
  },
  {
   "cell_type": "code",
   "execution_count": 2,
   "id": "6447dc86-fd8e-4850-8fd2-7427962e82bb",
   "metadata": {},
   "outputs": [
    {
     "name": "stdout",
     "output_type": "stream",
     "text": [
      "using_jupyter_(good).ipynb using_jupyter_(need).ipynb\n"
     ]
    }
   ],
   "source": [
    "!ls"
   ]
  },
  {
   "attachments": {},
   "cell_type": "markdown",
   "id": "f14ede0c",
   "metadata": {},
   "source": [
    "# 2 Install Notebook 7"
   ]
  },
  {
   "cell_type": "code",
   "execution_count": 5,
   "id": "8aab940e-3596-49c6-aa84-4c259dcb36f5",
   "metadata": {},
   "outputs": [
    {
     "name": "stdout",
     "output_type": "stream",
     "text": [
      "\u001b[1;33mJupyter detected\u001b[0m\u001b[1;33m...\u001b[0m\n",
      "\u001b[1;32m2\u001b[0m\u001b[1;32m channel Terms of Service accepted\u001b[0m\n",
      "\n",
      "PackagesNotFoundError: The following packages are missing from the target environment:\n",
      "  - jupyter_contrib_nbextensions\n",
      "\n",
      "\n",
      "\n",
      "Note: you may need to restart the kernel to use updated packages.\n"
     ]
    }
   ],
   "source": [
    "conda remove jupyter_contrib_nbextensions"
   ]
  },
  {
   "cell_type": "code",
   "execution_count": 6,
   "id": "7ec24c97-11eb-468c-b2f9-368087a20f07",
   "metadata": {},
   "outputs": [
    {
     "name": "stdout",
     "output_type": "stream",
     "text": [
      "\u001b[1;33mJupyter detected\u001b[0m\u001b[1;33m...\u001b[0m\n",
      "\u001b[1;32m2\u001b[0m\u001b[1;32m channel Terms of Service accepted\u001b[0m\n",
      "Retrieving notices: done\n",
      "Channels:\n",
      " - conda-forge\n",
      " - defaults\n",
      "Platform: osx-arm64\n",
      "Collecting package metadata (repodata.json): done\n",
      "Solving environment: done\n",
      "\n",
      "## Package Plan ##\n",
      "\n",
      "  environment location: /Users/kvaravindh/miniconda3\n",
      "\n",
      "  added / updated specs:\n",
      "    - notebook=7.0.6\n",
      "\n",
      "\n",
      "The following packages will be downloaded:\n",
      "\n",
      "    package                    |            build\n",
      "    ---------------------------|-----------------\n",
      "    importlib_metadata-8.7.0   |       h40b2b14_1          22 KB  conda-forge\n",
      "    importlib_resources-6.5.2  |     pyhd8ed1ab_0          33 KB  conda-forge\n",
      "    jupyterlab-4.0.13          |     pyhd8ed1ab_1         5.7 MB  conda-forge\n",
      "    notebook-7.0.6             |     pyhd8ed1ab_0         3.0 MB  conda-forge\n",
      "    ------------------------------------------------------------\n",
      "                                           Total:         8.7 MB\n",
      "\n",
      "The following NEW packages will be INSTALLED:\n",
      "\n",
      "  importlib_metadata conda-forge/noarch::importlib_metadata-8.7.0-h40b2b14_1 \n",
      "  importlib_resourc~ conda-forge/noarch::importlib_resources-6.5.2-pyhd8ed1ab_0 \n",
      "\n",
      "The following packages will be DOWNGRADED:\n",
      "\n",
      "  jupyterlab                             4.4.5-pyhd8ed1ab_0 --> 4.0.13-pyhd8ed1ab_1 \n",
      "  notebook                               7.4.5-pyhd8ed1ab_0 --> 7.0.6-pyhd8ed1ab_0 \n",
      "\n",
      "\n",
      "\n",
      "Downloading and Extracting Packages:\n",
      "jupyterlab-4.0.13    | 5.7 MB    |                                       |   0% \n",
      "notebook-7.0.6       | 3.0 MB    |                                       |   0% \u001b[A\n",
      "\n",
      "importlib_resources- | 33 KB     |                                       |   0% \u001b[A\u001b[A\n",
      "\n",
      "\n",
      "importlib_metadata-8 | 22 KB     |                                       |   0% \u001b[A\u001b[A\u001b[A\n",
      "\n",
      "importlib_resources- | 33 KB     | ##################################### | 100% \u001b[A\u001b[A\n",
      "notebook-7.0.6       | 3.0 MB    | 3                                     |   1% \u001b[A\n",
      "\n",
      "importlib_resources- | 33 KB     | ##################################### | 100% \u001b[A\u001b[A\n",
      "\n",
      "importlib_resources- | 33 KB     | ##################################### | 100% \u001b[A\u001b[A\n",
      "\n",
      "\n",
      "importlib_metadata-8 | 22 KB     | ###########################3          |  74% \u001b[A\u001b[A\u001b[A\n",
      "\n",
      "\n",
      "jupyterlab-4.0.13    | 5.7 MB    | 1                                     |   0% \u001b[A\u001b[A\u001b[A\n",
      "\n",
      "\n",
      "importlib_metadata-8 | 22 KB     | ##################################### | 100% \u001b[A\u001b[A\u001b[A\n",
      "jupyterlab-4.0.13    | 5.7 MB    | #2                                    |   3% \u001b[A\n",
      "jupyterlab-4.0.13    | 5.7 MB    | #####2                                |  14% \u001b[A\n",
      "jupyterlab-4.0.13    | 5.7 MB    | ######8                               |  19% \u001b[A\n",
      "notebook-7.0.6       | 3.0 MB    | ##############5                       |  39% \u001b[A\n",
      "jupyterlab-4.0.13    | 5.7 MB    | #########9                            |  27% \u001b[A\n",
      "jupyterlab-4.0.13    | 5.7 MB    | ############                          |  33% \u001b[A\n",
      "jupyterlab-4.0.13    | 5.7 MB    | ##############5                       |  39% \u001b[A\n",
      "jupyterlab-4.0.13    | 5.7 MB    | ################7                     |  45% \u001b[A\n",
      "notebook-7.0.6       | 3.0 MB    | ##################################9   |  94% \u001b[A\n",
      "jupyterlab-4.0.13    | 5.7 MB    | ######################3               |  60% \u001b[A\n",
      "                                                                                \u001b[A\n",
      "                                                                                \u001b[A\n",
      "\n",
      "                                                                                \u001b[A\u001b[A\n",
      "\n",
      "\n",
      "                                                                                \u001b[A\u001b[A\u001b[A\n",
      "Preparing transaction: done\n",
      "Verifying transaction: done\n",
      "Executing transaction: done\n",
      "\n",
      "Note: you may need to restart the kernel to use updated packages.\n"
     ]
    }
   ],
   "source": [
    "conda install -c conda-forge notebook=7.0.6 -y"
   ]
  },
  {
   "attachments": {},
   "cell_type": "markdown",
   "id": "749fab8d",
   "metadata": {},
   "source": [
    "# Jupyter Extensions"
   ]
  },
  {
   "attachments": {},
   "cell_type": "markdown",
   "id": "fd3dcf9b",
   "metadata": {},
   "source": [
    "## Installing the extensions"
   ]
  },
  {
   "attachments": {},
   "cell_type": "markdown",
   "id": "c2d4cdcf",
   "metadata": {},
   "source": [
    "## Enabling the extensions"
   ]
  },
  {
   "attachments": {},
   "cell_type": "markdown",
   "id": "a63f1956",
   "metadata": {},
   "source": [
    "# 3 Shell Magic"
   ]
  },
  {
   "cell_type": "code",
   "execution_count": 3,
   "id": "c24d8740-e05f-49ca-8c78-a5b1f20067e4",
   "metadata": {},
   "outputs": [
    {
     "name": "stdout",
     "output_type": "stream",
     "text": [
      "4.79 ns ± 0.00221 ns per loop (mean ± std. dev. of 7 runs, 100,000,000 loops each)\n"
     ]
    }
   ],
   "source": [
    "%timeit x=10"
   ]
  },
  {
   "cell_type": "code",
   "execution_count": 4,
   "id": "53044058-3623-4a42-9366-aa2a5bf369c0",
   "metadata": {},
   "outputs": [
    {
     "name": "stdout",
     "output_type": "stream",
     "text": [
      "7.77 ns ± 0.00746 ns per loop (mean ± std. dev. of 7 runs, 100,000,000 loops each)\n"
     ]
    }
   ],
   "source": [
    "%%timeit \n",
    "x=10\n",
    "y=10\n",
    "z=10"
   ]
  },
  {
   "attachments": {},
   "cell_type": "markdown",
   "id": "e8826516",
   "metadata": {},
   "source": [
    "# 4 The Kernel"
   ]
  }
 ],
 "metadata": {
  "kernelspec": {
   "display_name": "Python 3 (ipykernel)",
   "language": "python",
   "name": "python3"
  },
  "language_info": {
   "codemirror_mode": {
    "name": "ipython",
    "version": 3
   },
   "file_extension": ".py",
   "mimetype": "text/x-python",
   "name": "python",
   "nbconvert_exporter": "python",
   "pygments_lexer": "ipython3",
   "version": "3.13.5"
  },
  "toc": {
   "base_numbering": 1,
   "nav_menu": {},
   "number_sections": true,
   "sideBar": true,
   "skip_h1_title": false,
   "title_cell": "Table of Contents",
   "title_sidebar": "Contents",
   "toc_cell": false,
   "toc_position": {},
   "toc_section_display": true,
   "toc_window_display": false
  },
  "vscode": {
   "interpreter": {
    "hash": "31f2aee4e71d21fbe5cf8b01ff0e069b9275f58929596ceb00d14d90e3e16cd6"
   }
  }
 },
 "nbformat": 4,
 "nbformat_minor": 5
}
