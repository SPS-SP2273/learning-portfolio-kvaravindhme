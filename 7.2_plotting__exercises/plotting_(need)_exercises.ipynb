{
 "cells": [
  {
   "attachments": {},
   "cell_type": "markdown",
   "id": "123456",
   "metadata": {},
   "source": [
    "<div style=\"text-align:left;font-size:2em\"><span style=\"font-weight:bolder;font-size:1.25em\">SP2273 | Learning Portfolio</span><br><br><span style=\"font-weight:bold;color:darkred\">Plotting (Need) Exercises</span></div>"
   ]
  },
  {
   "cell_type": "code",
   "execution_count": null,
   "id": "05c63117-fc1d-4d52-a924-840279119040",
   "metadata": {},
   "outputs": [],
   "source": [
    "\n",
    "import matplotlib as plt\n",
    "\n",
    "# Some data for plotting\n",
    "x = [0, 1, 2, 3, 4, 5]\n",
    "y = [0, 4, 8, 12, 16, 20]\n",
    "y_err = [0.0, 0.5, 1.0, 1.5, 2.0, 2.5]\n",
    "x_err = .25\n",
    "\n",
    "plt.errorbar(x, y, \n",
    "             xerr=?, yerr=?,\n",
    "             color=?, linestyle=?,\n",
    "             marker=?, markerfacecolor=?,\n",
    "             ecolor=?,capsize=5,\n",
    "             label=?)\n",
    "plt.xlabel('x-values')\n",
    "plt.ylabel('y-values')\n",
    "plt.title('X vs Y')\n",
    "plt.grid(alpha=.25)\n",
    "plt.legend(?)\n",
    "plt.show()"
   ]
  },
  {
   "cell_type": "code",
   "execution_count": null,
   "id": "fa2ff043-4601-4488-b5f7-30d1b07ef910",
   "metadata": {},
   "outputs": [],
   "source": []
  }
 ],
 "metadata": {
  "kernelspec": {
   "display_name": "Python 3 (ipykernel)",
   "language": "python",
   "name": "python3"
  },
  "language_info": {
   "codemirror_mode": {
    "name": "ipython",
    "version": 3
   },
   "file_extension": ".py",
   "mimetype": "text/x-python",
   "name": "python",
   "nbconvert_exporter": "python",
   "pygments_lexer": "ipython3",
   "version": "3.13.5"
  },
  "toc": {
   "base_numbering": 1,
   "nav_menu": {},
   "number_sections": true,
   "sideBar": true,
   "skip_h1_title": false,
   "title_cell": "Table of Contents",
   "title_sidebar": "Contents",
   "toc_cell": false,
   "toc_position": {},
   "toc_section_display": true,
   "toc_window_display": false
  },
  "vscode": {
   "interpreter": {
    "hash": "31f2aee4e71d21fbe5cf8b01ff0e069b9275f58929596ceb00d14d90e3e16cd6"
   }
  }
 },
 "nbformat": 4,
 "nbformat_minor": 5
}
