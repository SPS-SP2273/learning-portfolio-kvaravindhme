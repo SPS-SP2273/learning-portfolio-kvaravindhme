{
 "cells": [
  {
   "attachments": {},
   "cell_type": "markdown",
   "id": "123456",
   "metadata": {},
   "source": [
    "<div style=\"text-align:left;font-size:2em\"><span style=\"font-weight:bolder;font-size:1.25em\">SP2273 | Learning Portfolio</span><br><br><span style=\"font-weight:bold;color:darkred\">Fundamentals (Need) Exercises</span></div>"
   ]
  },
  {
   "cell_type": "markdown",
   "id": "48e98f65-7126-48dd-909e-07602ff7fee9",
   "metadata": {},
   "source": [
    "**What I can remember**"
   ]
  },
  {
   "cell_type": "code",
   "execution_count": 1,
   "id": "b30a422f-2f0a-4fc4-84b9-a6db548e4ed1",
   "metadata": {},
   "outputs": [
    {
     "name": "stdout",
     "output_type": "stream",
     "text": [
      "3 4 5\n"
     ]
    }
   ],
   "source": [
    "import math\n",
    "\n",
    "x, y = 3, 4\n",
    "z = int(math.sqrt(x**2 + y**2))\n",
    "print(x, y, z)"
   ]
  },
  {
   "cell_type": "markdown",
   "id": "d3256f34-c49e-4802-bed7-ac3bbbd2de35",
   "metadata": {},
   "source": [
    "| #  | Term         | Description                                                                                  |\n",
    "|----|-------------|----------------------------------------------------------------------------------------------|\n",
    "| 1  | Function     | Takes in an input & processes it into an output |\n",
    "| 2  | Arguments    | Arguments are the inputs that are passed to a function |\n",
    "| 3  | Comments     | Non-code text added for clarity and organisation of the code &its structure |\n",
    "| 4  | Indentations | Space added at the start of a line of text to define specific blocks of text |\n",
    "| 5  | Packages     | Packages are collections of modules, which contain code surrounding a specific subject. For example, the math module contains functions, methods, and classes related to math operations |\n",
    "| 6  | .            | Accesses functions, methods, variables contained within classes & objects |\n",
    "| 7  | :            | Helps define blocks of code, e.g., after a condition or function |\n",
    "| 8  | []           | Used to enclose elements of a list |\n",
    "| 9  | [[],[]]      | Used to enclose elements of a list, whereby the elements themselves are also lists |\n",
    "| 10 | {}           | Used to enclose dictionaries, whereby a key is matched to a value |\n"
   ]
  },
  {
   "cell_type": "code",
   "execution_count": 8,
   "id": "6fc77bef-7c26-44a3-be65-1ca14ebf6642",
   "metadata": {},
   "outputs": [
    {
     "name": "stdout",
     "output_type": "stream",
     "text": [
      "3.15\n",
      "3.0\n",
      "1\n"
     ]
    }
   ],
   "source": [
    "print(6.3/2)           \n",
    "#divides a number by another & the output is a floating point number\n",
    "\n",
    "print(7.5//2)          \n",
    "#divides a number by another & rounds it down to the nearest integer, but does not return an integer data type\n",
    "\n",
    "print(5%2)\n",
    "#the modulus returns the remainder after the division\n"
   ]
  }
 ],
 "metadata": {
  "kernelspec": {
   "display_name": "Python 3 (ipykernel)",
   "language": "python",
   "name": "python3"
  },
  "language_info": {
   "codemirror_mode": {
    "name": "ipython",
    "version": 3
   },
   "file_extension": ".py",
   "mimetype": "text/x-python",
   "name": "python",
   "nbconvert_exporter": "python",
   "pygments_lexer": "ipython3",
   "version": "3.13.5"
  },
  "toc": {
   "base_numbering": 1,
   "nav_menu": {},
   "number_sections": true,
   "sideBar": true,
   "skip_h1_title": false,
   "title_cell": "Table of Contents",
   "title_sidebar": "Contents",
   "toc_cell": false,
   "toc_position": {},
   "toc_section_display": true,
   "toc_window_display": false
  },
  "vscode": {
   "interpreter": {
    "hash": "31f2aee4e71d21fbe5cf8b01ff0e069b9275f58929596ceb00d14d90e3e16cd6"
   }
  }
 },
 "nbformat": 4,
 "nbformat_minor": 5
}
