{
 "cells": [
  {
   "attachments": {},
   "cell_type": "markdown",
   "id": "123456",
   "metadata": {},
   "source": [
    "<div style=\"text-align:left;font-size:2em\"><span style=\"font-weight:bolder;font-size:1.25em\">SP2273 | Learning Portfolio</span><br><br><span style=\"font-weight:bold;color:darkred\">Fundamentals (Good) Exercises</span></div>"
   ]
  },
  {
   "cell_type": "markdown",
   "id": "2bb11cea-c99a-415c-954c-80c933471627",
   "metadata": {},
   "source": [
    "# f-strings to the rescue"
   ]
  },
  {
   "cell_type": "code",
   "execution_count": 2,
   "id": "9b2a05bc-39be-46dc-8673-2df9bb7606be",
   "metadata": {},
   "outputs": [
    {
     "name": "stdin",
     "output_type": "stream",
     "text": [
      "Please provide me with a number? 11\n"
     ]
    },
    {
     "name": "stdout",
     "output_type": "stream",
     "text": [
      "You entered 11\n"
     ]
    }
   ],
   "source": [
    "user_input = input('Please provide me with a number?')\n",
    "print('You entered', user_input)"
   ]
  },
  {
   "cell_type": "code",
   "execution_count": 11,
   "id": "a02810a8-9671-4172-b448-be3f03e668ae",
   "metadata": {},
   "outputs": [
    {
     "name": "stdin",
     "output_type": "stream",
     "text": [
      "What's your name? Aravindh\n"
     ]
    },
    {
     "name": "stdout",
     "output_type": "stream",
     "text": [
      "How you doin ARAVINDH!\n"
     ]
    }
   ],
   "source": [
    "name = input(\"What's your name?\") \n",
    "print(f\"How you doin {name.upper()}!\")"
   ]
  },
  {
   "cell_type": "code",
   "execution_count": 12,
   "id": "3f007d80-a810-4d47-b64d-ad44852e11a6",
   "metadata": {},
   "outputs": [
    {
     "name": "stdin",
     "output_type": "stream",
     "text": [
      "What's your name? Aravindh\n",
      "And how old are you? 21\n"
     ]
    },
    {
     "name": "stdout",
     "output_type": "stream",
     "text": [
      "My name is ARAVINDH and I am 21 years old.\n"
     ]
    }
   ],
   "source": [
    "name = input(\"What's your name?\") \n",
    "age = input(\"And how old are you?\")\n",
    "print(f\"My name is {name.upper()} and I am {age} years old.\")"
   ]
  },
  {
   "cell_type": "code",
   "execution_count": 15,
   "id": "eb26d057-727d-48dc-803a-4f8da19f1518",
   "metadata": {},
   "outputs": [
    {
     "name": "stdout",
     "output_type": "stream",
     "text": [
      "The value of pi to 2 decimal places is: 3.14\n",
      "\n",
      "The value of pi to 3 decimal places is: 3.142\n",
      "\n",
      "The value of pi to 4 decimal places is: 3.1416\n"
     ]
    }
   ],
   "source": [
    "pi = 3.141592653589793\n",
    "print(f\"The value of pi to 2 decimal places is: {pi:.2f}\\n\")\n",
    "print(f\"The value of pi to 3 decimal places is: {pi:.3f}\\n\")\n",
    "print(f\"The value of pi to 4 decimal places is: {pi:.4f}\")"
   ]
  },
  {
   "cell_type": "code",
   "execution_count": 2,
   "id": "432489a8-2858-4a8e-b150-499052f365d5",
   "metadata": {},
   "outputs": [
    {
     "name": "stdout",
     "output_type": "stream",
     "text": [
      "Apple      $ 0.99\n",
      "Banana     $ 0.59\n",
      "Orange     $ 1.29\n"
     ]
    }
   ],
   "source": [
    "print(f\"{'Apple':<10} ${0.99:>5.2f}\")\n",
    "print(f\"{'Banana':<10} ${0.59:>5.2f}\")\n",
    "print(f\"{'Orange':<10} ${1.29:>5.2f}\")"
   ]
  },
  {
   "cell_type": "markdown",
   "id": "215ee7db-b706-42c9-8e77-5bcb3f939bdc",
   "metadata": {},
   "source": [
    "# What is your grade?"
   ]
  },
  {
   "cell_type": "code",
   "execution_count": 17,
   "id": "e82daf73-277d-467d-a879-ebd68d88ec3c",
   "metadata": {},
   "outputs": [
    {
     "name": "stdin",
     "output_type": "stream",
     "text": [
      "Enter the student's score:  23.2\n"
     ]
    },
    {
     "name": "stdout",
     "output_type": "stream",
     "text": [
      "Enter a numerical value!\n"
     ]
    }
   ],
   "source": [
    "try: \n",
    "    score = int(input(\"Enter the student's score: \")) #if unable to convert to int, exception criterion is met (handles non-integers)\n",
    "\n",
    "    if score < 0 or score > 100: \n",
    "        print(\"Enter a value between 0 and 100!\") #handles negative numbers & numbers greater than 100 \n",
    "    else: \n",
    "        if score >= 70: \n",
    "            grade = 'A'\n",
    "        elif score >= 50: \n",
    "            grade = 'B'\n",
    "        elif score >= 35: \n",
    "            grade = 'C'\n",
    "        else: \n",
    "            grade = 'D'\n",
    "            \n",
    "        print(grade)\n",
    "\n",
    "except ValueError: \n",
    "    print(\"Enter a whole number!\")"
   ]
  },
  {
   "cell_type": "markdown",
   "id": "7f5de740-f051-4c8c-bbd5-226f9e72187a",
   "metadata": {},
   "source": [
    "# Debugging Code"
   ]
  },
  {
   "cell_type": "code",
   "execution_count": 40,
   "id": "8e41b5c3-3624-41f3-9877-edc7a1bc681e",
   "metadata": {},
   "outputs": [
    {
     "name": "stdout",
     "output_type": "stream",
     "text": [
      "120\n",
      "Invalid input\n"
     ]
    }
   ],
   "source": [
    "def factorial(n):\n",
    "    if n < 0:\n",
    "        return \"Invalid input\"\n",
    "    elif n == 0:\n",
    "        return 1\n",
    "    else:\n",
    "        result = 1\n",
    "        for number in range(1, n+1):\n",
    "            result *= number\n",
    "        return result\n",
    "\n",
    "print(factorial(5))   # Testing, expected output: 120\n",
    "print(factorial(-1))  # Testing, expected output: Invalid input"
   ]
  }
 ],
 "metadata": {
  "kernelspec": {
   "display_name": "Python 3 (ipykernel)",
   "language": "python",
   "name": "python3"
  },
  "language_info": {
   "codemirror_mode": {
    "name": "ipython",
    "version": 3
   },
   "file_extension": ".py",
   "mimetype": "text/x-python",
   "name": "python",
   "nbconvert_exporter": "python",
   "pygments_lexer": "ipython3",
   "version": "3.13.1"
  },
  "toc": {
   "base_numbering": 1,
   "nav_menu": {},
   "number_sections": true,
   "sideBar": true,
   "skip_h1_title": false,
   "title_cell": "Table of Contents",
   "title_sidebar": "Contents",
   "toc_cell": false,
   "toc_position": {},
   "toc_section_display": true,
   "toc_window_display": false
  },
  "vscode": {
   "interpreter": {
    "hash": "31f2aee4e71d21fbe5cf8b01ff0e069b9275f58929596ceb00d14d90e3e16cd6"
   }
  }
 },
 "nbformat": 4,
 "nbformat_minor": 5
}
