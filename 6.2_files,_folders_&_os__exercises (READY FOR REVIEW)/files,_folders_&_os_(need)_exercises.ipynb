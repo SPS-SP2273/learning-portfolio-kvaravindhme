{
 "cells": [
  {
   "attachments": {},
   "cell_type": "markdown",
   "id": "123456",
   "metadata": {},
   "source": [
    "<div style=\"text-align:left;font-size:2em\"><span style=\"font-weight:bolder;font-size:1.25em\">SP2273 | Learning Portfolio</span><br><br><span style=\"font-weight:bold;color:darkred\">Files, Folders & OS (Need) Exercises</span></div>"
   ]
  },
  {
   "cell_type": "markdown",
   "id": "24f4ee5a-0cee-489a-9413-85da2e6445a6",
   "metadata": {},
   "source": [
    "# Task 1"
   ]
  },
  {
   "cell_type": "code",
   "execution_count": 1,
   "id": "a093d744-a449-408a-bd90-10311f220382",
   "metadata": {},
   "outputs": [
    {
     "name": "stdout",
     "output_type": "stream",
     "text": [
      "10-08-singapore.txt\n"
     ]
    }
   ],
   "source": [
    "month_no = {\n",
    "'jan': '01', 'feb': '02', 'mar': '03',\n",
    "'apr': '04', 'may': '05', 'jun': '06',\n",
    "'jul': '07', 'aug': '08', 'sep': '09',\n",
    "'oct': '10', 'nov': '11', 'dec': '12'\n",
    "}\n",
    "\n",
    "# 'oct-08_singapore.txt' to 10-08-singapore.txt\n",
    "\n",
    "# all dates are in 2-digit format & months are all 3 letters-long\n",
    "\n",
    "old = 'oct-08_singapore.txt'\n",
    "month = old[:3]\n",
    "no = month_no[month]\n",
    "\n",
    "new = no + old[3:6] + '-' + old[7:]\n",
    "print(new)"
   ]
  },
  {
   "cell_type": "markdown",
   "id": "2d5f0726-c964-4827-9003-9cbdc2b6889e",
   "metadata": {},
   "source": [
    "# Task 2"
   ]
  },
  {
   "cell_type": "code",
   "execution_count": 12,
   "id": "43847f29-832b-4548-bcde-d7b715e51206",
   "metadata": {},
   "outputs": [
    {
     "name": "stdout",
     "output_type": "stream",
     "text": [
      "09-02-belgium.txt\n"
     ]
    }
   ],
   "source": [
    "month_no = {\n",
    "'jan': '01', 'feb': '02', 'mar': '03',\n",
    "'apr': '04', 'may': '05', 'jun': '06',\n",
    "'jul': '07', 'aug': '08', 'sep': '09',\n",
    "'oct': '10', 'nov': '11', 'dec': '12'\n",
    "}\n",
    "\n",
    "def rename_my_file(old_file_name):     \n",
    "    month = old_file_name[:3]\n",
    "    no = month_no[month]\n",
    "    \n",
    "    new_file_name = no + old_file_name[3:6] + '-' + old_file_name[7:]\n",
    "    return new_file_name\n",
    "\n",
    "print(rename_my_file('sep-02_belgium.txt'))"
   ]
  },
  {
   "cell_type": "markdown",
   "id": "a300112b-709e-43da-8a65-40950760b919",
   "metadata": {},
   "source": [
    "# Task 3"
   ]
  },
  {
   "cell_type": "code",
   "execution_count": 43,
   "id": "621a97db-9840-4379-a943-e6ca52d5490e",
   "metadata": {},
   "outputs": [
    {
     "name": "stdout",
     "output_type": "stream",
     "text": [
      "oct-08_singapore.txt ----> 10-08-singapore.txt\n",
      "jul-10_cairo.txt ----> 07-10-cairo.txt\n",
      "may-15_dhaka.txt ----> 05-15-dhaka.txt\n",
      "may-13_cairo.txt ----> 05-13-cairo.txt\n",
      "oct-21_cairo.txt ----> 10-21-cairo.txt\n",
      "jan-10_singapore.txt ----> 01-10-singapore.txt\n",
      "jun-20_tokyo.txt ----> 06-20-tokyo.txt\n",
      "aug-06_jakarta.txt ----> 08-06-jakarta.txt\n",
      "dec-21_karachi.txt ----> 12-21-karachi.txt\n",
      "jan-01_tokyo.txt ----> 01-01-tokyo.txt\n"
     ]
    }
   ],
   "source": [
    "month_no = {\n",
    "'jan': '01', 'feb': '02', 'mar': '03',\n",
    "'apr': '04', 'may': '05', 'jun': '06',\n",
    "'jul': '07', 'aug': '08', 'sep': '09',\n",
    "'oct': '10', 'nov': '11', 'dec': '12'\n",
    "}\n",
    "\n",
    "data = ['oct-08_singapore.txt', 'jul-10_cairo.txt', 'may-15_dhaka.txt',\n",
    " 'may-13_cairo.txt', 'oct-21_cairo.txt', 'jan-10_singapore.txt',\n",
    " 'jun-20_tokyo.txt', 'aug-06_jakarta.txt', 'dec-21_karachi.txt',\n",
    " 'jan-01_tokyo.txt']\n",
    "\n",
    "def rename_my_file(old_file_name):\n",
    "    if len(old_file_name.split('-')) == 3:\n",
    "        return old_file_name\n",
    "\n",
    "    else:\n",
    "        month = old_file_name[:3]\n",
    "        no = month_no[month]\n",
    "        \n",
    "        new_file_name = no + old_file_name[3:6] + '-' + old_file_name[7:]\n",
    "        return new_file_name\n",
    "    \n",
    "for i in data: \n",
    "    print(i + ' ----> ' + rename_my_file(i))"
   ]
  },
  {
   "cell_type": "markdown",
   "id": "be029ce2-51a6-4ca4-8bc2-6e5eee7fbcdc",
   "metadata": {},
   "source": [
    "# Task 4"
   ]
  },
  {
   "cell_type": "code",
   "execution_count": 45,
   "id": "3d02805e-1962-4c37-a3d8-4664f14875d4",
   "metadata": {},
   "outputs": [],
   "source": [
    "import os\n",
    "import glob\n",
    "\n",
    "#list of txt files in directory\n",
    "txt_files = glob.glob('os-collaboration-exercise-data/*.txt')\n",
    "\n",
    "for file in txt_files: \n",
    "    file_name = file.split('/')[1]\n",
    "    new_file_name = \"os-collaboration-exercise-data/\" + rename_my_file(file_name)\n",
    "\n",
    "    #checking to see if the file has been renamed already\n",
    "    if new_file_name == file_name: \n",
    "        continue\n",
    "    else:\n",
    "        os.rename(file, new_file_name)"
   ]
  },
  {
   "cell_type": "markdown",
   "id": "6bcfbbf4-4d6e-4b83-b0b0-9f305ff0e1c3",
   "metadata": {},
   "source": [
    "# Task 5"
   ]
  },
  {
   "cell_type": "code",
   "execution_count": 47,
   "id": "4d9c7bd5-7bca-4ab7-b068-d552507e118f",
   "metadata": {},
   "outputs": [],
   "source": [
    "cities =['Cairo', 'Dhaka', 'Jakarta', 'Karachi', 'Manila',\n",
    " 'Melbourne', 'Osaka', 'Shanghai', 'Singapore', 'Tokyo']\n",
    "\n",
    "for city in cities: \n",
    "    path = os.path.join('os-collaboration-exercise-data', city)\n",
    "    os.mkdir(path)"
   ]
  },
  {
   "cell_type": "markdown",
   "id": "063bb0c5-661c-426c-a50d-2216589635d8",
   "metadata": {},
   "source": [
    "# Task 6"
   ]
  },
  {
   "cell_type": "code",
   "execution_count": 61,
   "id": "377d057d-9595-493c-ad35-6a5a47b92b0a",
   "metadata": {},
   "outputs": [],
   "source": [
    "import shutil\n",
    "cairo_files = glob.glob('os-collaboration-exercise-data/*cairo.txt')\n",
    "path_to_destination = os.path.join('os-collaboration-exercise-data', 'Cairo')\n",
    "\n",
    "for file in cairo_files: \n",
    "    shutil.copy(file, path_to_destination)"
   ]
  },
  {
   "cell_type": "markdown",
   "id": "2d85a103-7aa7-4347-b5d4-50e924b2b69d",
   "metadata": {},
   "source": [
    "## Deleting files in the Cairo folder before Task 7"
   ]
  },
  {
   "cell_type": "code",
   "execution_count": 65,
   "id": "a918a81e-a573-4421-bda8-6f4b6cff59d7",
   "metadata": {},
   "outputs": [],
   "source": [
    "for file in glob.glob('os-collaboration-exercise-data/Cairo/*'): \n",
    "    os.remove(file)"
   ]
  },
  {
   "cell_type": "markdown",
   "id": "ccce82c6-a5a7-4023-a303-c4bf102b4352",
   "metadata": {},
   "source": [
    "# Task 7"
   ]
  },
  {
   "cell_type": "code",
   "execution_count": 79,
   "id": "70e071d2-9ddb-4dd9-ba7b-216a30955f89",
   "metadata": {},
   "outputs": [],
   "source": [
    "all_files = glob.glob('os-collaboration-exercise-data/*.txt')\n",
    "\n",
    "for file in all_files: \n",
    "    file_name = file.split('/')[1]\n",
    "    city_name = file_name[6:-4].capitalize()\n",
    "    path_to_destination = os.path.join('os-collaboration-exercise-data', city_name)\n",
    "\n",
    "    shutil.copy(file, path_to_destination)"
   ]
  }
 ],
 "metadata": {
  "kernelspec": {
   "display_name": "Python 3 (ipykernel)",
   "language": "python",
   "name": "python3"
  },
  "language_info": {
   "codemirror_mode": {
    "name": "ipython",
    "version": 3
   },
   "file_extension": ".py",
   "mimetype": "text/x-python",
   "name": "python",
   "nbconvert_exporter": "python",
   "pygments_lexer": "ipython3",
   "version": "3.13.1"
  },
  "toc": {
   "base_numbering": 1,
   "nav_menu": {},
   "number_sections": true,
   "sideBar": true,
   "skip_h1_title": false,
   "title_cell": "Table of Contents",
   "title_sidebar": "Contents",
   "toc_cell": false,
   "toc_position": {},
   "toc_section_display": true,
   "toc_window_display": false
  },
  "vscode": {
   "interpreter": {
    "hash": "31f2aee4e71d21fbe5cf8b01ff0e069b9275f58929596ceb00d14d90e3e16cd6"
   }
  }
 },
 "nbformat": 4,
 "nbformat_minor": 5
}
