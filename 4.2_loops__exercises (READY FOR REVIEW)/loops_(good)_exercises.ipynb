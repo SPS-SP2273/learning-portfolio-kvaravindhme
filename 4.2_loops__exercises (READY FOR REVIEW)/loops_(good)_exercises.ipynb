{
 "cells": [
  {
   "attachments": {},
   "cell_type": "markdown",
   "id": "123456",
   "metadata": {},
   "source": [
    "<div style=\"text-align:left;font-size:2em\"><span style=\"font-weight:bolder;font-size:1.25em\">SP2273 | Learning Portfolio</span><br><br><span style=\"font-weight:bold;color:darkred\">Loops (Good) Exercises</span></div>"
   ]
  },
  {
   "cell_type": "markdown",
   "id": "3608e921-95d2-4101-b57e-e1039f4c3d4b",
   "metadata": {},
   "source": [
    "# Make me an odd list"
   ]
  },
  {
   "cell_type": "code",
   "execution_count": 3,
   "id": "7e6d9a1b-1d24-444a-aa69-2eb7a1b503ca",
   "metadata": {},
   "outputs": [
    {
     "name": "stdout",
     "output_type": "stream",
     "text": [
      "[1, 9, 25, 49, 81]\n"
     ]
    }
   ],
   "source": [
    "oddNo = []\n",
    "for i in range(10):\n",
    "    if i % 2 == 0: \n",
    "        continue \n",
    "    oddNo.append(i**2)\n",
    "print(oddNo)"
   ]
  },
  {
   "cell_type": "markdown",
   "id": "c68a29dc-812d-4728-a6c0-85e0ecd23d09",
   "metadata": {},
   "source": [
    "# Make me another odd list"
   ]
  },
  {
   "cell_type": "code",
   "execution_count": 4,
   "id": "b2b56dcb-eee0-4d2e-9495-149710e719e5",
   "metadata": {},
   "outputs": [
    {
     "name": "stdout",
     "output_type": "stream",
     "text": [
      "[1, 9, 25, 49, 81]\n"
     ]
    }
   ],
   "source": [
    "print([no**2 for no in range(10) if no % 2 == 1])"
   ]
  },
  {
   "cell_type": "markdown",
   "id": "ee46b7f0-e7f3-4aca-8c3b-a0ac8a9606a6",
   "metadata": {},
   "source": [
    "# Time me!"
   ]
  },
  {
   "cell_type": "code",
   "execution_count": 5,
   "id": "569d2010-78b6-4dd4-ada8-f08d6aa88b66",
   "metadata": {},
   "outputs": [
    {
     "name": "stdout",
     "output_type": "stream",
     "text": [
      "414 ns ± 1.7 ns per loop (mean ± std. dev. of 7 runs, 1,000,000 loops each)\n"
     ]
    }
   ],
   "source": [
    "%%timeit\n",
    "oddNo = []\n",
    "for i in range(10):\n",
    "    if i % 2 == 0: \n",
    "        continue \n",
    "    oddNo.append(i)"
   ]
  },
  {
   "cell_type": "code",
   "execution_count": 6,
   "id": "870b7488-3a2c-420b-bb9b-f08b592d73d6",
   "metadata": {},
   "outputs": [
    {
     "name": "stdout",
     "output_type": "stream",
     "text": [
      "436 ns ± 1.7 ns per loop (mean ± std. dev. of 7 runs, 1,000,000 loops each)\n"
     ]
    }
   ],
   "source": [
    "%timeit [no for no in range(10) if no % 2 == 1]"
   ]
  },
  {
   "cell_type": "markdown",
   "id": "4d0a364c-ab45-4887-9726-6af711e315df",
   "metadata": {},
   "source": [
    "Using a for loop with range() and continue is faster than list comprehension."
   ]
  },
  {
   "cell_type": "markdown",
   "id": "e54182c8-3f39-42e9-b84f-e4ce6c15e3e2",
   "metadata": {},
   "source": [
    "# A problem of decay"
   ]
  },
  {
   "cell_type": "code",
   "execution_count": 28,
   "id": "89033adc-da61-4a19-a8b0-fe63026350be",
   "metadata": {},
   "outputs": [
    {
     "name": "stdout",
     "output_type": "stream",
     "text": [
      "14\n"
     ]
    }
   ],
   "source": [
    "amt = 100\n",
    "yrs = 0\n",
    "while amt > 50: \n",
    "    amt *= (0.95)\n",
    "    yrs += 1\n",
    "\n",
    "print(yrs)\n",
    "#for more precision, need to measure decay in months or days; \n",
    "#by end of yr 14, only 48% of the substance is left"
   ]
  },
  {
   "cell_type": "markdown",
   "id": "98e6a9bc-7e2f-41c2-9226-58f66679f149",
   "metadata": {},
   "source": [
    "# Changes in CO2"
   ]
  },
  {
   "cell_type": "code",
   "execution_count": 3,
   "id": "4a7411d1-6b7f-4f4f-99cb-444113f07536",
   "metadata": {},
   "outputs": [
    {
     "name": "stdout",
     "output_type": "stream",
     "text": [
      "[[2016, 3.410000000000025]]\n"
     ]
    }
   ],
   "source": [
    "co2_data = [\n",
    "    (2000, 369.55), (2001, 371.14), (2002, 373.28), \n",
    "    (2003, 375.80), (2004, 377.52), (2005, 379.80), \n",
    "    (2006, 381.90), (2007, 383.79), (2008, 385.60), \n",
    "    (2009, 387.43), (2010, 389.90), (2011, 391.65), \n",
    "    (2012, 393.85), (2013, 396.52), (2014, 398.65),\n",
    "    (2015, 400.83), (2016, 404.24), (2017, 406.55), \n",
    "    (2018, 408.52), (2019, 411.44), (2020, 414.24)\n",
    "]\n",
    "\n",
    "yrs = []\n",
    "for i in range(len(co2_data)):\n",
    "    if i == 0: \n",
    "        continue\n",
    "    change = co2_data[i][1]-co2_data[i-1][1]\n",
    "    if change >= 3: \n",
    "        yrs.append([co2_data[i][0], change])\n",
    "\n",
    "print(yrs)"
   ]
  },
  {
   "cell_type": "code",
   "execution_count": null,
   "id": "439ede5f-cfea-463c-92e6-02bd235eff3c",
   "metadata": {},
   "outputs": [],
   "source": []
  }
 ],
 "metadata": {
  "kernelspec": {
   "display_name": "Python 3 (ipykernel)",
   "language": "python",
   "name": "python3"
  },
  "language_info": {
   "codemirror_mode": {
    "name": "ipython",
    "version": 3
   },
   "file_extension": ".py",
   "mimetype": "text/x-python",
   "name": "python",
   "nbconvert_exporter": "python",
   "pygments_lexer": "ipython3",
   "version": "3.13.1"
  },
  "toc": {
   "base_numbering": 1,
   "nav_menu": {},
   "number_sections": true,
   "sideBar": true,
   "skip_h1_title": false,
   "title_cell": "Table of Contents",
   "title_sidebar": "Contents",
   "toc_cell": false,
   "toc_position": {},
   "toc_section_display": true,
   "toc_window_display": false
  },
  "vscode": {
   "interpreter": {
    "hash": "31f2aee4e71d21fbe5cf8b01ff0e069b9275f58929596ceb00d14d90e3e16cd6"
   }
  }
 },
 "nbformat": 4,
 "nbformat_minor": 5
}
