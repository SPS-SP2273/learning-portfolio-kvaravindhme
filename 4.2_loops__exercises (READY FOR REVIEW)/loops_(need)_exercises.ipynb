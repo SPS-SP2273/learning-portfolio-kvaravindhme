{
 "cells": [
  {
   "attachments": {},
   "cell_type": "markdown",
   "id": "123456",
   "metadata": {},
   "source": [
    "<div style=\"text-align:left;font-size:2em\"><span style=\"font-weight:bolder;font-size:1.25em\">SP2273 | Learning Portfolio</span><br><br><span style=\"font-weight:bold;color:darkred\">Loops (Need) Exercises</span></div>"
   ]
  },
  {
   "cell_type": "markdown",
   "id": "35dbfc68-6992-461c-8b85-23b6de9dffca",
   "metadata": {},
   "source": [
    "# Celsius to Fahrenheit"
   ]
  },
  {
   "cell_type": "code",
   "execution_count": 4,
   "id": "8afee0eb-9665-40cc-93fa-7992a730c620",
   "metadata": {},
   "outputs": [
    {
     "name": "stdout",
     "output_type": "stream",
     "text": [
      "[[0, 32.0], [5, 41.0], [10, 50.0], [15, 59.0], [20, 68.0], [25, 77.0], [30, 86.0], [35, 95.0], [40, 104.0], [45, 113.0], [50, 122.0]]\n"
     ]
    }
   ],
   "source": [
    "temperatures_celsius = [\n",
    "    0, 5, 10, 15, 20, 25,\n",
    "    30, 35, 40, 45, 50\n",
    "]\n",
    "\n",
    "for i in range(len(temperatures_celsius)): \n",
    "    t = temperatures_celsius[i]\n",
    "    temperatures_celsius[i] = [t, t*9/5+32]\n",
    "\n",
    "print(temperatures_celsius)"
   ]
  },
  {
   "cell_type": "markdown",
   "id": "4dfe61d3-34ff-4e2d-9a17-fac0a10a7e9c",
   "metadata": {},
   "source": [
    "# Multiplication Table"
   ]
  },
  {
   "cell_type": "code",
   "execution_count": 39,
   "id": "b1209656-197b-4348-9284-5647c958674b",
   "metadata": {},
   "outputs": [
    {
     "name": "stdout",
     "output_type": "stream",
     "text": [
      "1 : 1  2  3  4  5  \n",
      "\n",
      "2 : 2  4  6  8  10 \n",
      "\n",
      "3 : 3  6  9  12 15 \n",
      "\n",
      "4 : 4  8  12 16 20 \n",
      "\n",
      "5 : 5  10 15 20 25 \n",
      "\n"
     ]
    }
   ],
   "source": [
    "for i in range(5): \n",
    "    print(str(i+1) + ' : ', end = '')\n",
    "    for j in range(5):\n",
    "        ans = str((i+1)*(j+1))\n",
    "        print(ans, end = '')\n",
    "        if len(ans)==1:\n",
    "            print('  ', end = '')\n",
    "        else: \n",
    "            print(' ', end = '')\n",
    "    print('\\n')\n",
    "#works only on the condition that the number of digits of the values are only 1 or 2"
   ]
  },
  {
   "cell_type": "markdown",
   "id": "99adf95a-d736-479b-9434-f36ded30d71b",
   "metadata": {},
   "source": [
    "# Simulating a Coin Flip Experiment"
   ]
  },
  {
   "cell_type": "code",
   "execution_count": 7,
   "id": "a4aa9a68-936e-4282-88e5-3fb6ddb149b7",
   "metadata": {},
   "outputs": [
    {
     "name": "stdout",
     "output_type": "stream",
     "text": [
      "Exeriment  1: No of heads: 1\n",
      "Exeriment  2: No of heads: 4\n",
      "Exeriment  3: No of heads: 5\n",
      "Exeriment  4: No of heads: 5\n",
      "Exeriment  5: No of heads: 6\n",
      "Exeriment  6: No of heads: 4\n",
      "Exeriment  7: No of heads: 3\n",
      "Exeriment  8: No of heads: 7\n",
      "Exeriment  9: No of heads: 7\n",
      "Exeriment 10: No of heads: 5\n"
     ]
    }
   ],
   "source": [
    "import numpy as np\n",
    "for i in range(10): \n",
    "    heads = 0\n",
    "    data = np.random.rand(10)\n",
    "    for j in range(10): \n",
    "        if data[j]>=0.5: \n",
    "            heads+=1\n",
    "    if i==9: \n",
    "        print(f'Exeriment {i+1}: No of heads: {heads}')\n",
    "    else: \n",
    "        print(f'Exeriment  {i+1}: No of heads: {heads}')"
   ]
  }
 ],
 "metadata": {
  "kernelspec": {
   "display_name": "Python 3 (ipykernel)",
   "language": "python",
   "name": "python3"
  },
  "language_info": {
   "codemirror_mode": {
    "name": "ipython",
    "version": 3
   },
   "file_extension": ".py",
   "mimetype": "text/x-python",
   "name": "python",
   "nbconvert_exporter": "python",
   "pygments_lexer": "ipython3",
   "version": "3.13.5"
  },
  "toc": {
   "base_numbering": 1,
   "nav_menu": {},
   "number_sections": true,
   "sideBar": true,
   "skip_h1_title": false,
   "title_cell": "Table of Contents",
   "title_sidebar": "Contents",
   "toc_cell": false,
   "toc_position": {},
   "toc_section_display": true,
   "toc_window_display": false
  },
  "vscode": {
   "interpreter": {
    "hash": "31f2aee4e71d21fbe5cf8b01ff0e069b9275f58929596ceb00d14d90e3e16cd6"
   }
  }
 },
 "nbformat": 4,
 "nbformat_minor": 5
}
