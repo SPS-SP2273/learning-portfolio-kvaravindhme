{
 "cells": [
  {
   "attachments": {},
   "cell_type": "markdown",
   "id": "123456",
   "metadata": {},
   "source": [
    "<div style=\"text-align:left;font-size:2em\"><span style=\"font-weight:bolder;font-size:1.25em\">SP2273 | Learning Portfolio</span><br><br><span style=\"font-weight:bold;color:darkred\">Functions (Good)</span></div>"
   ]
  },
  {
   "attachments": {},
   "cell_type": "markdown",
   "id": "06ff9f12",
   "metadata": {},
   "source": [
    "# What to expect in this chapter"
   ]
  },
  {
   "attachments": {},
   "cell_type": "markdown",
   "id": "ba52b5dc",
   "metadata": {},
   "source": [
    "# 1 Checks, balances, and contingencies"
   ]
  },
  {
   "attachments": {},
   "cell_type": "markdown",
   "id": "f8166bbb",
   "metadata": {},
   "source": [
    "## 1.1 assert"
   ]
  },
  {
   "cell_type": "code",
   "execution_count": 5,
   "id": "839eb59e-24b8-4bac-9362-d8259e9a26cf",
   "metadata": {},
   "outputs": [],
   "source": [
    "#allows us to return an error msg based on a condition we implemented\n",
    "x = 10\n",
    "assert x >= 0, \"x is becoming negative!\""
   ]
  },
  {
   "cell_type": "code",
   "execution_count": 6,
   "id": "bbb04025-b82c-4bb9-9a6f-086373a1bca3",
   "metadata": {},
   "outputs": [
    {
     "ename": "AssertionError",
     "evalue": "x is becoming negative!",
     "output_type": "error",
     "traceback": [
      "\u001b[31m---------------------------------------------------------------------------\u001b[39m",
      "\u001b[31mAssertionError\u001b[39m                            Traceback (most recent call last)",
      "\u001b[36mCell\u001b[39m\u001b[36m \u001b[39m\u001b[32mIn[6]\u001b[39m\u001b[32m, line 3\u001b[39m\n\u001b[32m      1\u001b[39m \u001b[38;5;66;03m#allows us to return an error msg based on a condition we implemented\u001b[39;00m\n\u001b[32m      2\u001b[39m x = -\u001b[32m1\u001b[39m\n\u001b[32m----> \u001b[39m\u001b[32m3\u001b[39m \u001b[38;5;28;01massert\u001b[39;00m x >= \u001b[32m0\u001b[39m, \u001b[33m\"\u001b[39m\u001b[33mx is becoming negative!\u001b[39m\u001b[33m\"\u001b[39m\n",
      "\u001b[31mAssertionError\u001b[39m: x is becoming negative!"
     ]
    }
   ],
   "source": [
    "#allows us to return an error msg based on a condition we implemented\n",
    "x = -1\n",
    "assert x >= 0, \"x is becoming negative!\""
   ]
  },
  {
   "attachments": {},
   "cell_type": "markdown",
   "id": "08266a7a",
   "metadata": {},
   "source": [
    "## 1.2 try-except"
   ]
  },
  {
   "cell_type": "code",
   "execution_count": 9,
   "id": "fa4bcaa8-5fc3-42f2-b449-40ffd082e8cc",
   "metadata": {},
   "outputs": [
    {
     "name": "stdin",
     "output_type": "stream",
     "text": [
      "Give me a number and I will calculate its square. hahaha\n"
     ]
    },
    {
     "ename": "ValueError",
     "evalue": "invalid literal for int() with base 10: 'hahaha'",
     "output_type": "error",
     "traceback": [
      "\u001b[31m---------------------------------------------------------------------------\u001b[39m",
      "\u001b[31mValueError\u001b[39m                                Traceback (most recent call last)",
      "\u001b[36mCell\u001b[39m\u001b[36m \u001b[39m\u001b[32mIn[9]\u001b[39m\u001b[32m, line 2\u001b[39m\n\u001b[32m      1\u001b[39m number=\u001b[38;5;28minput\u001b[39m(\u001b[33m\"\u001b[39m\u001b[33mGive me a number and I will calculate its square.\u001b[39m\u001b[33m\"\u001b[39m)\n\u001b[32m----> \u001b[39m\u001b[32m2\u001b[39m square=\u001b[38;5;28;43mint\u001b[39;49m\u001b[43m(\u001b[49m\u001b[43mnumber\u001b[49m\u001b[43m)\u001b[49m**\u001b[32m2\u001b[39m              \u001b[38;5;66;03m# Convert English to number\u001b[39;00m\n\u001b[32m      3\u001b[39m \u001b[38;5;28mprint\u001b[39m(\u001b[33mf\u001b[39m\u001b[33m'\u001b[39m\u001b[33mThe square of \u001b[39m\u001b[38;5;132;01m{\u001b[39;00mnumber\u001b[38;5;132;01m}\u001b[39;00m\u001b[33m is \u001b[39m\u001b[38;5;132;01m{\u001b[39;00msquare\u001b[38;5;132;01m}\u001b[39;00m\u001b[33m!\u001b[39m\u001b[33m'\u001b[39m)\n",
      "\u001b[31mValueError\u001b[39m: invalid literal for int() with base 10: 'hahaha'"
     ]
    }
   ],
   "source": [
    "number=input(\"Give me a number and I will calculate its square.\")\n",
    "square=int(number)**2              # Convert English to number\n",
    "print(f'The square of {number} is {square}!')"
   ]
  },
  {
   "cell_type": "code",
   "execution_count": 10,
   "id": "d3e7d1fc-f2ed-40dc-9ff5-a48fa9ef1ce5",
   "metadata": {},
   "outputs": [
    {
     "name": "stdin",
     "output_type": "stream",
     "text": [
      "Give me a number and I will calculate its square. asd\n"
     ]
    },
    {
     "name": "stdout",
     "output_type": "stream",
     "text": [
      "Oh oh! I cannot square asd!\n"
     ]
    }
   ],
   "source": [
    "try:\n",
    "    number=input(\"Give me a number and I will calculate its square.\")\n",
    "    square=int(number)**2\n",
    "    print(f'The square of {number} is {square}!')\n",
    "except:\n",
    "    print(f\"Oh oh! I cannot square {number}!\")"
   ]
  },
  {
   "attachments": {},
   "cell_type": "markdown",
   "id": "cbfeda11",
   "metadata": {},
   "source": [
    "## 1.3 A simple suggestion"
   ]
  },
  {
   "attachments": {},
   "cell_type": "markdown",
   "id": "020dea83",
   "metadata": {},
   "source": [
    "# 2 Some loose ends"
   ]
  },
  {
   "attachments": {},
   "cell_type": "markdown",
   "id": "9f4168d5",
   "metadata": {},
   "source": [
    "## 2.1 Positional, keyword and default arguments"
   ]
  },
  {
   "cell_type": "code",
   "execution_count": 24,
   "id": "7e8559e6-85ff-4525-ad4b-eb80e581ba2e",
   "metadata": {},
   "outputs": [],
   "source": [
    "def side_by_side(a, b, c=42):\n",
    "    return f'{a: 2d}|{b: 2d}|{c: 2d}'"
   ]
  },
  {
   "cell_type": "code",
   "execution_count": 25,
   "id": "7dd5d0d6-d218-4466-a0cd-6929a6389636",
   "metadata": {},
   "outputs": [
    {
     "data": {
      "text/plain": [
       "' 1| 2| 3'"
      ]
     },
     "execution_count": 25,
     "metadata": {},
     "output_type": "execute_result"
    }
   ],
   "source": [
    "#positional\n",
    "side_by_side(1, 2, 3)"
   ]
  },
  {
   "cell_type": "code",
   "execution_count": 26,
   "id": "c5c02ec9-1e59-4bcc-9cbe-78015e30e008",
   "metadata": {},
   "outputs": [
    {
     "data": {
      "text/plain": [
       "' 2| 1| 3'"
      ]
     },
     "execution_count": 26,
     "metadata": {},
     "output_type": "execute_result"
    }
   ],
   "source": [
    "#keywords\n",
    "side_by_side(c=3, b=1, a=2)"
   ]
  },
  {
   "cell_type": "code",
   "execution_count": 27,
   "id": "dd48fe0f-8d28-4be9-b1ae-1d5f0a93b163",
   "metadata": {},
   "outputs": [
    {
     "data": {
      "text/plain": [
       "' 1| 2| 42'"
      ]
     },
     "execution_count": 27,
     "metadata": {},
     "output_type": "execute_result"
    }
   ],
   "source": [
    "side_by_side(1, b=2)\n",
    "#c is 42 because that was defined in the original function"
   ]
  },
  {
   "cell_type": "code",
   "execution_count": 29,
   "id": "b9eff46c-ebd9-41a4-919f-e5e0b218fa6c",
   "metadata": {},
   "outputs": [
    {
     "name": "stdout",
     "output_type": "stream",
     "text": [
      " 1| 2| 42\n",
      " 1| 2| 3\n",
      " 1| 2| 42\n",
      " 2| 1| 3\n",
      " 1| 2| 3\n",
      " 1| 2| 42\n"
     ]
    }
   ],
   "source": [
    "print(side_by_side(1, 2))           # Two positional, 1 default\n",
    "## ' 1| 2| 42'\n",
    "print(side_by_side(1, 2, 3))        # Three positional\n",
    "## ' 1| 2| 3'\n",
    "print(side_by_side(a=1, b=2))       # Two keyword, 1 default\n",
    "## ' 1| 2| 42'\n",
    "print(side_by_side(c=3, b=1, a=2))  # Three keyword\n",
    "## ' 2| 1| 3'\n",
    "print(side_by_side(1, c=3, b=2))    # One positional, 2 keyword\n",
    "## ' 1| 2| 3'\n",
    "print(side_by_side(1, b=2))         # One positional, 1 keyword, 1 default\n",
    "## ' 1| 2| 42'"
   ]
  },
  {
   "cell_type": "code",
   "execution_count": 30,
   "id": "229a7678-c0a1-4644-8bad-539620523f25",
   "metadata": {},
   "outputs": [
    {
     "ename": "SyntaxError",
     "evalue": "positional argument follows keyword argument (3855048630.py, line 3)",
     "output_type": "error",
     "traceback": [
      "  \u001b[36mCell\u001b[39m\u001b[36m \u001b[39m\u001b[32mIn[30]\u001b[39m\u001b[32m, line 3\u001b[39m\n\u001b[31m    \u001b[39m\u001b[31mside_by_side(a=2, 1)      # Won't work.\u001b[39m\n                       ^\n\u001b[31mSyntaxError\u001b[39m\u001b[31m:\u001b[39m positional argument follows keyword argument\n"
     ]
    }
   ],
   "source": [
    "# Keywords cannot be followed \n",
    "# by positional arguments\n",
    "side_by_side(a=2, 1)      # Won't work.                          "
   ]
  },
  {
   "attachments": {},
   "cell_type": "markdown",
   "id": "af09aa35",
   "metadata": {},
   "source": [
    "## 2.2 Docstrings"
   ]
  },
  {
   "cell_type": "code",
   "execution_count": 32,
   "id": "6eb09b8d-4ca9-4190-aa6a-1fbe0e4b4194",
   "metadata": {},
   "outputs": [
    {
     "name": "stdout",
     "output_type": "stream",
     "text": [
      "Help on function side_by_side in module __main__:\n",
      "\n",
      "side_by_side(a, b, c=42)\n",
      "    A test function to demonstrate how\n",
      "    positional, keyword and default arguments\n",
      "    work.\n",
      "\n"
     ]
    }
   ],
   "source": [
    "def side_by_side(a, b, c=42):\n",
    "    '''\n",
    "    A test function to demonstrate how \n",
    "    positional, keyword and default arguments \n",
    "    work.\n",
    "    '''\n",
    "    return f'{a: 2d}|{b: 2d}|{c: 2d}'\n",
    "help(side_by_side)"
   ]
  },
  {
   "attachments": {},
   "cell_type": "markdown",
   "id": "1864c1f5",
   "metadata": {},
   "source": [
    "## 2.3 Function are first-class citizens"
   ]
  },
  {
   "cell_type": "code",
   "execution_count": 35,
   "id": "a8f93985-734c-40a4-accf-fd0ab4a2f12c",
   "metadata": {},
   "outputs": [
    {
     "name": "stdout",
     "output_type": "stream",
     "text": [
      "1.0\n",
      "6.123233995736766e-17\n",
      "-1.0\n"
     ]
    }
   ],
   "source": [
    "import numpy as np\n",
    "def my_function(angle, trig_function):\n",
    "        return trig_function(angle)\n",
    "\n",
    "# Let's use the function\n",
    "print(my_function(np.pi/2, np.sin))        \n",
    "## np.float64(1.0)\n",
    "\n",
    "print(my_function(np.pi/2, np.cos))        \n",
    "## np.float64(6.123233995736766e-17)\n",
    "\n",
    "print(my_function(np.pi/2, lambda x: np.cos(2*x)))  \n",
    "## np.float64(-1.0)"
   ]
  },
  {
   "attachments": {},
   "cell_type": "markdown",
   "id": "2bd8a059",
   "metadata": {},
   "source": [
    "## 2.4 More about unpacking"
   ]
  },
  {
   "cell_type": "code",
   "execution_count": 36,
   "id": "bd8a8031-d889-40e2-a4bd-a87f97b3eda6",
   "metadata": {},
   "outputs": [
    {
     "data": {
      "text/plain": [
       "(1, 2, 3)"
      ]
     },
     "execution_count": 36,
     "metadata": {},
     "output_type": "execute_result"
    }
   ],
   "source": [
    "x, y, z = [1, 2, 3]\n",
    "x, y, z"
   ]
  },
  {
   "cell_type": "code",
   "execution_count": 37,
   "id": "f09576ac-a926-49f1-b455-d50b0172c2a0",
   "metadata": {},
   "outputs": [
    {
     "data": {
      "text/plain": [
       "(np.int64(1), np.int64(2), np.int64(3))"
      ]
     },
     "execution_count": 37,
     "metadata": {},
     "output_type": "execute_result"
    }
   ],
   "source": [
    "x, y, z = np.array([1, 2, 3])\n",
    "x, y, z"
   ]
  },
  {
   "cell_type": "code",
   "execution_count": 42,
   "id": "c95c73ee-952f-415d-a016-962b45ee5d73",
   "metadata": {},
   "outputs": [
    {
     "data": {
      "text/plain": [
       "(np.int64(1), [np.int64(2), np.int64(3), np.int64(4)], np.int64(5))"
      ]
     },
     "execution_count": 42,
     "metadata": {},
     "output_type": "execute_result"
    }
   ],
   "source": [
    "x, *y, z = np.array([1, 2, 3, 4, 5])\n",
    "x, y, z\n",
    "#y = [2, 3, 4]"
   ]
  },
  {
   "cell_type": "code",
   "execution_count": 43,
   "id": "598cdaf1-23e4-44ac-866f-8b35a96c69a5",
   "metadata": {},
   "outputs": [
    {
     "data": {
      "text/plain": [
       "(1, 5)"
      ]
     },
     "execution_count": 43,
     "metadata": {},
     "output_type": "execute_result"
    }
   ],
   "source": [
    "x, *_, y = [1, 2, 3, 4, 5]\n",
    "x, y\n",
    "#unpacks only first & last"
   ]
  }
 ],
 "metadata": {
  "kernelspec": {
   "display_name": "Python 3 (ipykernel)",
   "language": "python",
   "name": "python3"
  },
  "language_info": {
   "codemirror_mode": {
    "name": "ipython",
    "version": 3
   },
   "file_extension": ".py",
   "mimetype": "text/x-python",
   "name": "python",
   "nbconvert_exporter": "python",
   "pygments_lexer": "ipython3",
   "version": "3.13.5"
  },
  "toc": {
   "base_numbering": 1,
   "nav_menu": {},
   "number_sections": true,
   "sideBar": true,
   "skip_h1_title": false,
   "title_cell": "Table of Contents",
   "title_sidebar": "Contents",
   "toc_cell": false,
   "toc_position": {},
   "toc_section_display": true,
   "toc_window_display": false
  },
  "vscode": {
   "interpreter": {
    "hash": "31f2aee4e71d21fbe5cf8b01ff0e069b9275f58929596ceb00d14d90e3e16cd6"
   }
  }
 },
 "nbformat": 4,
 "nbformat_minor": 5
}
