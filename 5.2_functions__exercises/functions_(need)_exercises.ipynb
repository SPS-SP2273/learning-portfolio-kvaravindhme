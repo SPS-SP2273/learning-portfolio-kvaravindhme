{
 "cells": [
  {
   "attachments": {},
   "cell_type": "markdown",
   "id": "123456",
   "metadata": {},
   "source": [
    "<div style=\"text-align:left;font-size:2em\"><span style=\"font-weight:bolder;font-size:1.25em\">SP2273 | Learning Portfolio</span><br><br><span style=\"font-weight:bold;color:darkred\">Functions (Need) Exercises</span></div>"
   ]
  },
  {
   "cell_type": "markdown",
   "id": "e518d075-b5f1-4d32-acf5-4695a2702039",
   "metadata": {},
   "source": [
    "# Do you know why"
   ]
  },
  {
   "cell_type": "markdown",
   "id": "befa59c3-44ff-4683-ae56-4bff66e31ffa",
   "metadata": {},
   "source": [
    "def greeting(name):\n",
    "    if name == 'Batman':\n",
    "        return 'Hello Batman! So, nice to meet you!'\n",
    "    return f'Hello {name}!'\n",
    "\n",
    "Because the if-block is within a function, if the condition is not passed, the program skips to the next line & runs it. The code after the if-block acts like the else-block. Since the if-block here returns an output, if the condition is passed, the value is returned & the the function is exited. So, only the code within the if-block OR the code outside is run, working like an if/else setup.\n",
    "\n",
    "This if/else set-up cannot happen outside a function because the code after the if-block will run regardless of whether the the condition for the if-block passes. "
   ]
  },
  {
   "cell_type": "markdown",
   "id": "b51b53be-95b8-408a-bfe8-b4cc79b01cc9",
   "metadata": {},
   "source": [
    "# Chubby or not"
   ]
  },
  {
   "cell_type": "code",
   "execution_count": 2,
   "id": "e32667d2-460e-4f5b-a378-27466a42d9e9",
   "metadata": {},
   "outputs": [
    {
     "name": "stdin",
     "output_type": "stream",
     "text": [
      "Weight in kilograms:  45\n",
      "Height in metres:  1.69\n"
     ]
    },
    {
     "name": "stdout",
     "output_type": "stream",
     "text": [
      "You are underweight!\n"
     ]
    }
   ],
   "source": [
    "weight = float(input(\"Weight in kilograms: \"))\n",
    "height = float(input(\"Height in metres: \"))\n",
    "\n",
    "def calculate_bmi(weight, height):  \n",
    "    bmi = weight / (height ** 2)\n",
    "    if bmi < 18.5: \n",
    "        return 'underweight'\n",
    "    elif bmi < 24.9: \n",
    "        return 'normal weight' \n",
    "    elif bmi < 29.9: \n",
    "        return 'overweight.' \n",
    "    else: \n",
    "        return 'obese'\n",
    "\n",
    "print(f'You are {calculate_bmi(weight, height)}!')"
   ]
  },
  {
   "cell_type": "markdown",
   "id": "520991c9-2373-43c9-b781-978d2098bf00",
   "metadata": {},
   "source": [
    "# Factorials"
   ]
  },
  {
   "cell_type": "code",
   "execution_count": 5,
   "id": "259d8010-43eb-4ac6-b6db-b24bb34bf1c8",
   "metadata": {},
   "outputs": [
    {
     "name": "stdin",
     "output_type": "stream",
     "text": [
      "n:  3\n"
     ]
    },
    {
     "data": {
      "text/plain": [
       "6"
      ]
     },
     "execution_count": 5,
     "metadata": {},
     "output_type": "execute_result"
    }
   ],
   "source": [
    "n = int(input(\"n: \"))\n",
    "\n",
    "def factorial(n): \n",
    "    if n < 0: \n",
    "        return \"Enter a positive number!\"\n",
    "    else:\n",
    "        x = 1\n",
    "        for i in range(n): \n",
    "            x *= i+1\n",
    "        return x\n",
    "\n",
    "factorial(n)"
   ]
  }
 ],
 "metadata": {
  "kernelspec": {
   "display_name": "Python 3 (ipykernel)",
   "language": "python",
   "name": "python3"
  },
  "language_info": {
   "codemirror_mode": {
    "name": "ipython",
    "version": 3
   },
   "file_extension": ".py",
   "mimetype": "text/x-python",
   "name": "python",
   "nbconvert_exporter": "python",
   "pygments_lexer": "ipython3",
   "version": "3.13.5"
  },
  "toc": {
   "base_numbering": 1,
   "nav_menu": {},
   "number_sections": true,
   "sideBar": true,
   "skip_h1_title": false,
   "title_cell": "Table of Contents",
   "title_sidebar": "Contents",
   "toc_cell": false,
   "toc_position": {},
   "toc_section_display": true,
   "toc_window_display": false
  },
  "vscode": {
   "interpreter": {
    "hash": "31f2aee4e71d21fbe5cf8b01ff0e069b9275f58929596ceb00d14d90e3e16cd6"
   }
  }
 },
 "nbformat": 4,
 "nbformat_minor": 5
}
