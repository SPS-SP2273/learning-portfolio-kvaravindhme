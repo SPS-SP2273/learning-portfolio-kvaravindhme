{
 "cells": [
  {
   "attachments": {},
   "cell_type": "markdown",
   "id": "123456",
   "metadata": {},
   "source": [
    "<div style=\"text-align:left;font-size:2em\"><span style=\"font-weight:bolder;font-size:1.25em\">SP2273 | Learning Portfolio</span><br><br><span style=\"font-weight:bold;color:darkred\">Functions (Good) Exercises</span></div>"
   ]
  },
  {
   "cell_type": "markdown",
   "id": "c6559453-dc21-4452-a967-a4fca41a91a8",
   "metadata": {},
   "source": [
    "# Celsius to Fahrenheit or Kelvin"
   ]
  },
  {
   "cell_type": "code",
   "execution_count": 8,
   "id": "e5896543-e86f-4f32-9660-730f2c3cf8ec",
   "metadata": {},
   "outputs": [
    {
     "name": "stdout",
     "output_type": "stream",
     "text": [
      "Returning temperature in Kelvin...\n",
      "316.15\n",
      "Returning temperature in Fahrenheit...\n",
      "109.4\n"
     ]
    }
   ],
   "source": [
    "def convert_celsius(temperature_celsius, target_scale='Fahrenheit'): \n",
    "    if temperature_celsius < -273.15:\n",
    "        return \"Invalid temperature!\"\n",
    "    elif target_scale == 'Kelvin': \n",
    "        print(\"Returning temperature in Kelvin...\")\n",
    "        return float(temperature_celsius)+ 273.15\n",
    "    else: \n",
    "        print(\"Returning temperature in Fahrenheit...\")\n",
    "        return float(temperature_celsius*9/5)+32 \n",
    "\n",
    "print(convert_celsius(43, 'Kelvin'))\n",
    "print(convert_celsius(43, 'Bobby'))"
   ]
  },
  {
   "cell_type": "markdown",
   "id": "ae88686a-f53c-4f53-adad-96d7d7d646f1",
   "metadata": {},
   "source": [
    "# Fahrenheit to Celsius or Kelvin"
   ]
  },
  {
   "cell_type": "code",
   "execution_count": 9,
   "id": "037be256-2107-45a8-89d7-c5f4552c944a",
   "metadata": {},
   "outputs": [
    {
     "name": "stdout",
     "output_type": "stream",
     "text": [
      "Returning temperature in Kelvin...\n",
      "279.26111111111106\n",
      "Returning temperature in Celsius...\n",
      "6.111111111111111\n"
     ]
    }
   ],
   "source": [
    "def convert_fahrenheit(temperature_fahrenheit, target_scale=\"Celsius\"):\n",
    "    if temperature_fahrenheit < -459.67: \n",
    "        return \"Invalid temperature!\"\n",
    "    elif target_scale == 'Kelvin': \n",
    "        print(\"Returning temperature in Kelvin...\")\n",
    "        return (float(temperature_fahrenheit)-32)*5/9+273.15\n",
    "    else: \n",
    "        print(\"Returning temperature in Celsius...\")\n",
    "        return (float(temperature_fahrenheit)-32)*5/9\n",
    "\n",
    "print(convert_fahrenheit(43, 'Kelvin'))\n",
    "print(convert_fahrenheit(43, 'Bobby'))"
   ]
  },
  {
   "cell_type": "markdown",
   "id": "315987fd-b9de-4a36-9caa-7eac33c32f2c",
   "metadata": {},
   "source": [
    "# General Temperature Conversion"
   ]
  },
  {
   "cell_type": "code",
   "execution_count": 10,
   "id": "e8076eb1-7fae-42e2-b16f-75f07b5cef7e",
   "metadata": {},
   "outputs": [
    {
     "name": "stdout",
     "output_type": "stream",
     "text": [
      "Converting from Kelvin...\n",
      "Returning temperature in Fahrenheit...\n",
      "-382.27\n",
      "\n",
      "Converting from Celsius...\n",
      "Returning temperature in Kelvin...\n",
      "316.15\n",
      "\n",
      "Converting from Fahrenheit...\n",
      "Returning temperature in Celsius...\n",
      "6.111111111111111\n"
     ]
    }
   ],
   "source": [
    "def convert_kelvins(temperature_kelvins, target_scale=\"Celsius\"):\n",
    "    if temperature_kelvins < 0: \n",
    "        return \"Invalid temperature!\"\n",
    "    elif target_scale == 'Fahrenheit': \n",
    "        print(\"Returning temperature in Fahrenheit...\")\n",
    "        return (float(temperature_kelvins)-273.15)*9/5+32\n",
    "    else: \n",
    "        print(\"Returning temperature in Celsius...\")\n",
    "        return float(temperature_kelvins)-273.15\n",
    "\n",
    "def convert_temperature(temperature, source_scale, target_scale):\n",
    "    temperature = float(temperature)\n",
    "    if source_scale == 'Fahrenheit': \n",
    "        print(\"Converting from Fahrenheit...\")\n",
    "        return convert_fahrenheit(temperature, target_scale)\n",
    "    elif source_scale == 'Celsius': \n",
    "        print(\"Converting from Celsius...\")\n",
    "        return convert_celsius(temperature, target_scale)\n",
    "    else: \n",
    "        print(\"Converting from Kelvin...\")\n",
    "        return convert_kelvins(temperature, target_scale)\n",
    "\n",
    "print(convert_temperature(43, 'Kelvin', 'Fahrenheit'))\n",
    "print()\n",
    "print(convert_temperature(43, 'Celsius', 'Kelvin'))\n",
    "print()\n",
    "print(convert_temperature(43, 'Fahrenheit', 'Celsius'))\n",
    "\n",
    "#could be better by setting a limit for the lowest temperature possible"
   ]
  },
  {
   "cell_type": "code",
   "execution_count": null,
   "id": "b91e0e02-4fc0-47ef-8a8e-11e7eb9d6f3c",
   "metadata": {},
   "outputs": [],
   "source": []
  }
 ],
 "metadata": {
  "kernelspec": {
   "display_name": "Python 3 (ipykernel)",
   "language": "python",
   "name": "python3"
  },
  "language_info": {
   "codemirror_mode": {
    "name": "ipython",
    "version": 3
   },
   "file_extension": ".py",
   "mimetype": "text/x-python",
   "name": "python",
   "nbconvert_exporter": "python",
   "pygments_lexer": "ipython3",
   "version": "3.13.1"
  },
  "toc": {
   "base_numbering": 1,
   "nav_menu": {},
   "number_sections": true,
   "sideBar": true,
   "skip_h1_title": false,
   "title_cell": "Table of Contents",
   "title_sidebar": "Contents",
   "toc_cell": false,
   "toc_position": {},
   "toc_section_display": true,
   "toc_window_display": false
  },
  "vscode": {
   "interpreter": {
    "hash": "31f2aee4e71d21fbe5cf8b01ff0e069b9275f58929596ceb00d14d90e3e16cd6"
   }
  }
 },
 "nbformat": 4,
 "nbformat_minor": 5
}
